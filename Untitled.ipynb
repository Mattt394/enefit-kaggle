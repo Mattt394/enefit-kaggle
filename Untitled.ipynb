{
 "cells": [
  {
   "cell_type": "code",
   "execution_count": 1,
   "id": "f30209f1-db6c-4b19-a82a-65ee580673e1",
   "metadata": {},
   "outputs": [],
   "source": [
    "import lightgbm as lgb\n",
    "import numpy as np\n",
    "from sklearn.datasets import make_classification\n",
    "from sklearn.model_selection import train_test_split\n"
   ]
  },
  {
   "cell_type": "code",
   "execution_count": 2,
   "id": "b62110f3-6b5b-462e-bb8c-e243a80eddab",
   "metadata": {},
   "outputs": [],
   "source": [
    "\n",
    "# Generate a random dataset\n",
    "X, y = make_classification(n_samples=1000, n_features=50, random_state=42)\n",
    "X_train, X_test, y_train, y_test = train_test_split(X, y, test_size=0.2, random_state=42)\n",
    "\n",
    "# Create a LightGBM dataset\n",
    "train_data = lgb.Dataset(X_train, label=y_train)\n",
    "test_data = lgb.Dataset(X_test, label=y_test)\n"
   ]
  },
  {
   "cell_type": "code",
   "execution_count": 5,
   "id": "3dcaf06a-bffc-46dc-938d-8a699dc23946",
   "metadata": {},
   "outputs": [],
   "source": [
    "\n",
    "# Set up the parameters to use the GPU\n",
    "params = {\n",
    "    'objective': 'binary',\n",
    "    'device': 'gpu',  # This parameter is set to use GPU\n",
    "    # 'gpu_platform_id': 0,\n",
    "    # 'gpu_device_id': 0\n",
    "}\n"
   ]
  },
  {
   "cell_type": "code",
   "execution_count": 6,
   "id": "70200960-1342-4c41-a699-563a95176e5c",
   "metadata": {},
   "outputs": [
    {
     "name": "stdout",
     "output_type": "stream",
     "text": [
      "[LightGBM] [Info] Number of positive: 396, number of negative: 404\n",
      "[LightGBM] [Info] This is the GPU trainer!!\n",
      "[LightGBM] [Info] Total Bins 12750\n",
      "[LightGBM] [Info] Number of data points in the train set: 800, number of used features: 50\n",
      "[LightGBM] [Info] Using GPU Device: NVIDIA GeForce RTX 3090, Vendor: NVIDIA Corporation\n",
      "[LightGBM] [Info] Compiling OpenCL Kernel with 256 bins...\n",
      "[LightGBM] [Info] GPU programs have been built\n",
      "[LightGBM] [Info] Size of histogram bin entry: 8\n",
      "[LightGBM] [Info] 50 dense feature groups (0.04 MB) transferred to GPU in 0.003164 secs. 0 sparse feature groups\n",
      "[LightGBM] [Info] [binary:BoostFromScore]: pavg=0.495000 -> initscore=-0.020001\n",
      "[LightGBM] [Info] Start training from score -0.020001\n",
      "[2.64609683e-04 9.98452715e-01 4.20436245e-01 5.87574080e-04\n",
      " 1.60807161e-04 9.99416220e-01 9.71945859e-01 1.14178891e-04\n",
      " 1.50041611e-03 2.82982709e-04]\n"
     ]
    }
   ],
   "source": [
    "\n",
    "# Train the model\n",
    "model = lgb.train(params, train_data, valid_sets=[test_data])\n",
    "\n",
    "# Test to see if the model works\n",
    "y_pred = model.predict(X_test)\n",
    "print(y_pred[:10])  # Print first 10 predictions"
   ]
  },
  {
   "cell_type": "code",
   "execution_count": null,
   "id": "195298ce-d83b-4502-84e3-f9f209f05c2e",
   "metadata": {},
   "outputs": [],
   "source": []
  },
  {
   "cell_type": "code",
   "execution_count": null,
   "id": "6ba1c678-fbb5-4a09-95d8-d89e21ad7265",
   "metadata": {},
   "outputs": [],
   "source": []
  },
  {
   "cell_type": "code",
   "execution_count": null,
   "id": "b21a843e-f1f3-4cdf-95c1-9cc3dd814023",
   "metadata": {},
   "outputs": [],
   "source": []
  },
  {
   "cell_type": "code",
   "execution_count": null,
   "id": "12a1a73b-4dc1-4932-bd96-ff93aa077767",
   "metadata": {},
   "outputs": [],
   "source": []
  },
  {
   "cell_type": "code",
   "execution_count": null,
   "id": "72ca1f31-b3f4-44b2-a5ec-b5e943bf4537",
   "metadata": {},
   "outputs": [],
   "source": []
  }
 ],
 "metadata": {
  "kernelspec": {
   "display_name": "Python 3 (ipykernel)",
   "language": "python",
   "name": "python3"
  },
  "language_info": {
   "codemirror_mode": {
    "name": "ipython",
    "version": 3
   },
   "file_extension": ".py",
   "mimetype": "text/x-python",
   "name": "python",
   "nbconvert_exporter": "python",
   "pygments_lexer": "ipython3",
   "version": "3.10.13"
  }
 },
 "nbformat": 4,
 "nbformat_minor": 5
}
