{
 "cells": [
  {
   "cell_type": "markdown",
   "id": "a38f7c1b-3a04-4f9b-96d0-34e5b999c17e",
   "metadata": {},
   "source": [
    "# Data Processing"
   ]
  },
  {
   "cell_type": "code",
   "execution_count": null,
   "id": "8e964c79-b336-40f5-91c3-16aebaa9cd13",
   "metadata": {},
   "outputs": [],
   "source": [
    "data_processor.df"
   ]
  },
  {
   "cell_type": "code",
   "execution_count": null,
   "id": "a777d9c8-7483-4856-8f26-194c2085ab3d",
   "metadata": {},
   "outputs": [],
   "source": []
  },
  {
   "cell_type": "code",
   "execution_count": null,
   "id": "b9acf203-2b61-4403-9bcc-f7d974f73316",
   "metadata": {},
   "outputs": [],
   "source": []
  },
  {
   "cell_type": "code",
   "execution_count": null,
   "id": "bd3a52b1-b67b-44f0-9be6-ee07871780b9",
   "metadata": {},
   "outputs": [],
   "source": []
  },
  {
   "cell_type": "code",
   "execution_count": null,
   "id": "6bb757a0-3633-4d27-a2f6-edc01ed85dc5",
   "metadata": {},
   "outputs": [],
   "source": []
  },
  {
   "cell_type": "code",
   "execution_count": null,
   "id": "3d074587-c97a-4e1d-9634-13bb6024a49e",
   "metadata": {},
   "outputs": [],
   "source": []
  },
  {
   "cell_type": "code",
   "execution_count": null,
   "id": "97aaed26-2db6-4f18-99a1-1dac6a2a6cab",
   "metadata": {},
   "outputs": [],
   "source": []
  },
  {
   "cell_type": "code",
   "execution_count": null,
   "id": "1367bca8-0bff-4849-9f69-c4ff8b2ec27d",
   "metadata": {},
   "outputs": [],
   "source": []
  },
  {
   "cell_type": "code",
   "execution_count": 1,
   "id": "4cf5dd1a-cc7e-424e-9c40-4a579d610128",
   "metadata": {
    "tags": []
   },
   "outputs": [],
   "source": [
    "def fill_drop_na(df):\n",
    "    df = df[~df.target.isna()]\n",
    "    df = df[~df.target_rolling_avg_24h.isna()]\n",
    "    means = df.mean()\n",
    "    # For each column, add an indicator column for NA values\n",
    "    for col in df.columns:\n",
    "        if df[col].isna().any():\n",
    "            df[f'{col}_is_na'] = df[col].isna()\n",
    "    df = df.fillna(means)\n",
    "    return df, means"
   ]
  },
  {
   "cell_type": "code",
   "execution_count": null,
   "id": "8a4e1ac6-9ea6-4240-8fc6-d716a4154132",
   "metadata": {},
   "outputs": [],
   "source": [
    "processed_df_no_na, means = fill_drop_na(processed_df)\n",
    "processed_df_no_na.isna().sum()"
   ]
  },
  {
   "cell_type": "code",
   "execution_count": null,
   "id": "d598ce2c-5922-49c7-b103-ceb0e8244f0d",
   "metadata": {},
   "outputs": [],
   "source": []
  },
  {
   "cell_type": "code",
   "execution_count": null,
   "id": "d59de3cd-c862-4d72-a47c-f541292a427b",
   "metadata": {},
   "outputs": [],
   "source": []
  },
  {
   "cell_type": "code",
   "execution_count": null,
   "id": "6e50efc0-7f10-4af9-b65a-0278b568ee05",
   "metadata": {},
   "outputs": [],
   "source": []
  },
  {
   "cell_type": "code",
   "execution_count": null,
   "id": "b5e5b3cc-bb22-478c-bd5c-bdfb80bec939",
   "metadata": {},
   "outputs": [],
   "source": [
    "processed_df_no_na['target_installed_capacity'] = processed_df_no_na['target'] / processed_df_no_na['installed_capacity'] * 1000\n",
    "processed_df_no_na"
   ]
  }
 ],
 "metadata": {
  "kernelspec": {
   "display_name": "Python 3 (ipykernel)",
   "language": "python",
   "name": "python3"
  },
  "language_info": {
   "codemirror_mode": {
    "name": "ipython",
    "version": 3
   },
   "file_extension": ".py",
   "mimetype": "text/x-python",
   "name": "python",
   "nbconvert_exporter": "python",
   "pygments_lexer": "ipython3",
   "version": "3.10.13"
  }
 },
 "nbformat": 4,
 "nbformat_minor": 5
}
