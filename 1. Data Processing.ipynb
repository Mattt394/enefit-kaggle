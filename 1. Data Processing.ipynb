{
 "cells": [
  {
   "cell_type": "markdown",
   "id": "e065405e-2f4b-46ab-b928-194bac7265b2",
   "metadata": {},
   "source": [
    "# Data Processing\n",
    "\n",
    "I've heard rumours that the API output doesn't have data_block_id - so I'm going to have to look at other ways of joining the data in this notebook to make it API compatible,"
   ]
  },
  {
   "cell_type": "code",
   "execution_count": 13,
   "id": "69edb47b-69ce-4382-9686-0458af986415",
   "metadata": {
    "tags": []
   },
   "outputs": [],
   "source": [
    "import pandas as pd\n",
    "import datetime as dt"
   ]
  },
  {
   "cell_type": "markdown",
   "id": "b22b5cc9-52bf-456c-8b2c-8257217445bf",
   "metadata": {},
   "source": [
    "## TODO: Find out the lag for each datetime"
   ]
  },
  {
   "cell_type": "code",
   "execution_count": 11,
   "id": "fc6202c7-7bf4-412e-8c90-e837aebea539",
   "metadata": {
    "tags": []
   },
   "outputs": [],
   "source": [
    "class TrainDataProcessor:\n",
    "    \"\"\"Processes Train data, using train data as a warm start, and prepares it for inference.\"\"\"\n",
    "\n",
    "    def __init__(self, train, revealed_targets, client, historical_weather,\n",
    "                 forecast_weather, electricity_prices, gas_prices, weather_mapping):\n",
    "        self.train = self.init_train(train)\n",
    "        self.revealed_targets = self.init_revealed_targets(revealed_targets)\n",
    "        self.client = self.init_client(client)\n",
    "        self.historical_weather = self.init_historical_weather(historical_weather)\n",
    "        self.forecast_weather = self.init_forecast_weather(forecast_weather)\n",
    "        self.electricity_prices = self.init_electricity(electricity_prices)\n",
    "        self.gas_prices = self.init_gas_prices(gas_prices)\n",
    "        self.weather_mapping = self.init_weather_mapping(weather_mapping)\n",
    "        \n",
    "    def get_data_block_id(df, datetime_col):\n",
    "        \"\"\"\n",
    "        Find data_block_id from date\n",
    "        \"\"\"\n",
    "        base_date = dt.datetime(2021, 9, 1)\n",
    "        \n",
    "        df['data_block_id'] = df[datetime_col] \n",
    "\n",
    "        df = df.with_columns(\n",
    "            (pl.col(datetime_col) - base_date).dt.days().alias(\"data_block_id\")\n",
    "        )\n",
    "\n",
    "        return df\n",
    "        \n",
    "    def init_train(self, df):\n",
    "        \"\"\"\n",
    "        Prepares the training data for model training.\"\"\"\n",
    "        df['datetime'] = pd.to_datetime(df.datetime)\n",
    "        df['date'] = df.datetime.dt.date\n",
    "        df = self.get_data_block_id(df, 'datetime')\n",
    "        return df\n",
    "\n",
    "    def init_electricity(self, df):\n",
    "        ## LAG = 1 Day\n",
    "        ## Move forecast datetime ahead by 1 day\n",
    "        ## change name to datetime\n",
    "        df['datetime'] = pd.to_datetime(df['forecast_date'])\n",
    "        df = self.get_data_block_id(df, 'datetime')\n",
    "        return df\n",
    "\n",
    "    def init_historical_weather(self, df):\n",
    "        ## LAG: From 11:00 AM 2 days ago to 10:00 AM 1 day ago\n",
    "        ## What to do? Give most recent weather forecast? Give average over the last day?\n",
    "        \"\"\"\n",
    "        Processes the historical weather data.\n",
    "        Implement the logic to handle historical weather data processing here.\n",
    "        \"\"\"\n",
    "        df['datetime'] = pd.to_datetime(df.datetime)\n",
    "        df = self.get_data_block_id(df, 'datetime')\n",
    "        return df\n",
    "\n",
    "    def init_forecast_weather(self, df):\n",
    "        ## LAG: DON't ADJUST\n",
    "        ##      The forecast is from yesterday, but can forecast today, which is 22 hours ahead\n",
    "        ## Drop any columns where:\n",
    "        ##                        hours_ahead < 22 and hours_ahead > 45\n",
    "        ## Then rename forecast_datetime to datetime and join on datetime\n",
    "        \"\"\"\n",
    "        Processes the forecast weather data.\n",
    "        Implement the logic to handle forecast weather data processing here.\n",
    "        \"\"\"\n",
    "        df['datetime'] = pd.to_datetime(df['forecast_date'])\n",
    "        df = self.get_data_block_id(df, 'datetime')\n",
    "        return df\n",
    "\n",
    "    def init_gas_prices(self, df):\n",
    "        ## LAG: 1 DAY\n",
    "        ## Predictions are made from 2 days ago and predict for yesterday\n",
    "        ## add one day to forecast_date\n",
    "        ## Rename forecast_date to date, join on date\n",
    "        \"\"\"\n",
    "        Processes the gas prices data.\n",
    "        Implement the logic to handle gas prices data processing here.\n",
    "        \"\"\"\n",
    "        df['datetime'] = pd.to_datetime(df['forecast_date'])\n",
    "        df = self.get_data_block_id(df, 'datetime')\n",
    "        return df\n",
    "    \n",
    "    def init_revealed_targets(self, df):\n",
    "        return df\n",
    "    \n",
    "    def init_client(self, df):\n",
    "        ## LAG: 2 days\n",
    "        ## Add 2 days to date, join on date\n",
    "        df['date'] = pd.to_datetime(df.date).dt.date\n",
    "        df = self.get_data_block_id(df, 'date')\n",
    "        return df\n",
    "\n",
    "    def init_weather_mapping(self, df):\n",
    "        # https://www.kaggle.com/code/tsunotsuno/enefit-eda-baseline/notebook#Baseline\n",
    "        county_point_map = {\n",
    "            0: (59.4, 24.7), # \"HARJUMAA\"\n",
    "            1 : (58.8, 22.7), # \"HIIUMAA\"\n",
    "            2 : (59.1, 27.2), # \"IDA-VIRUMAA\"\n",
    "            3 : (58.8, 25.7), # \"JÄRVAMAA\"\n",
    "            4 : (58.8, 26.2), # \"JÕGEVAMAA\"\n",
    "            5 : (59.1, 23.7), # \"LÄÄNE-VIRUMAA\"\n",
    "            6 : (59.1, 23.7), # \"LÄÄNEMAA\"\n",
    "            7 : (58.5, 24.7), # \"PÄRNUMAA\"\n",
    "            8 : (58.2, 27.2), # \"PÕLVAMAA\"\n",
    "            9 : (58.8, 24.7), # \"RAPLAMAA\"\n",
    "            10 : (58.5, 22.7),# \"SAAREMAA\"\n",
    "            11 : (58.5, 26.7),# \"TARTUMAA\"\n",
    "            12 : (58.5, 25.2),# \"UNKNOWNN\" (center of the map)\n",
    "            13 : (57.9, 26.2),# \"VALGAMAA\"\n",
    "            14 : (58.2, 25.7),# \"VILJANDIMAA\"\n",
    "            15 : (57.9, 27.2) # \"VÕRUMAA\"\n",
    "        }\n",
    "        # Convert the dictionary to a list of tuples\n",
    "        data = [(county_code, lat, lon) for county_code, (lat, lon) in county_point_map.items()]\n",
    "\n",
    "        # Create DataFrame\n",
    "        df = pd.DataFrame(data, columns=['county', 'latitude', 'longitude'])\n",
    "        \n",
    "        return df"
   ]
  },
  {
   "cell_type": "code",
   "execution_count": 3,
   "id": "3b43d8d0-96a2-4c5d-aa7f-2f2912dcfc08",
   "metadata": {
    "tags": []
   },
   "outputs": [
    {
     "name": "stdout",
     "output_type": "stream",
     "text": [
      "You must call `predict()` successfully before you can continue with `iter_test()`\n"
     ]
    },
    {
     "ename": "TypeError",
     "evalue": "cannot unpack non-iterable NoneType object",
     "output_type": "error",
     "traceback": [
      "\u001b[1;31m---------------------------------------------------------------------------\u001b[0m",
      "\u001b[1;31mTypeError\u001b[0m                                 Traceback (most recent call last)",
      "Cell \u001b[1;32mIn[3], line 1\u001b[0m\n\u001b[1;32m----> 1\u001b[0m \u001b[38;5;28;01mfor\u001b[39;00m (test, revealed_targets, client, historical_weather,\n\u001b[0;32m      2\u001b[0m         forecast_weather, electricity_prices, gas_prices, sample_submission) \u001b[38;5;129;01min\u001b[39;00m iter_test:\n\u001b[0;32m      3\u001b[0m \u001b[38;5;250m    \u001b[39m\u001b[38;5;124;03m\"\"\"I want a data reading class that saves all the test data and loads it then processes it\"\"\"\u001b[39;00m\n",
      "\u001b[1;31mTypeError\u001b[0m: cannot unpack non-iterable NoneType object"
     ]
    }
   ],
   "source": [
    "for (test, revealed_targets, client, historical_weather,\n",
    "        forecast_weather, electricity_prices, gas_prices, sample_submission) in iter_test:\n",
    "    \"\"\"I want a data reading class that saves all the test data and loads it then processes it\"\"\""
   ]
  },
  {
   "cell_type": "code",
   "execution_count": 4,
   "id": "d7057811-2793-41b5-a677-0ebe2d221a72",
   "metadata": {
    "tags": []
   },
   "outputs": [],
   "source": [
    "import os"
   ]
  },
  {
   "cell_type": "code",
   "execution_count": 6,
   "id": "8bdd5805-bc7f-4d38-96bd-c9680867a5b1",
   "metadata": {
    "tags": []
   },
   "outputs": [
    {
     "data": {
      "text/plain": [
       "'.'"
      ]
     },
     "execution_count": 6,
     "metadata": {},
     "output_type": "execute_result"
    }
   ],
   "source": [
    "os.curdir"
   ]
  },
  {
   "cell_type": "code",
   "execution_count": 7,
   "id": "1b65bd44-6340-4195-aadd-9abfe2a4a2e8",
   "metadata": {
    "tags": []
   },
   "outputs": [
    {
     "data": {
      "text/plain": [
       "['.git',\n",
       " '.gitattributes',\n",
       " '.gitignore',\n",
       " '.ipynb_checkpoints',\n",
       " '1. Data Processing.ipynb',\n",
       " 'data',\n",
       " 'Ideas.md',\n",
       " 'README.md',\n",
       " 'WIP Data Exploration.ipynb',\n",
       " 'WIP Data Loading.ipynb']"
      ]
     },
     "execution_count": 7,
     "metadata": {},
     "output_type": "execute_result"
    }
   ],
   "source": [
    "os.listdir()"
   ]
  },
  {
   "cell_type": "code",
   "execution_count": null,
   "id": "327b172a-91bd-4305-b696-fc31c118fc20",
   "metadata": {},
   "outputs": [],
   "source": []
  }
 ],
 "metadata": {
  "kernelspec": {
   "display_name": "Python 3 (ipykernel)",
   "language": "python",
   "name": "python3"
  },
  "language_info": {
   "codemirror_mode": {
    "name": "ipython",
    "version": 3
   },
   "file_extension": ".py",
   "mimetype": "text/x-python",
   "name": "python",
   "nbconvert_exporter": "python",
   "pygments_lexer": "ipython3",
   "version": "3.10.13"
  }
 },
 "nbformat": 4,
 "nbformat_minor": 5
}
